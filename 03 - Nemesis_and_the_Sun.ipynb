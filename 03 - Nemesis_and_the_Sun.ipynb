{
 "cells": [
  {
   "cell_type": "code",
   "execution_count": 1,
   "metadata": {
    "jupyter": {
     "source_hidden": true
    },
    "tags": []
   },
   "outputs": [],
   "source": [
    "# the following fixes are highly recommended\n",
    "\n",
    "#allow oversubscription for openMPI\n",
    "import os\n",
    "os.environ[\"OMPI_MCA_rmaps_base_oversubscribe\"]=\"true\"\n",
    "\n",
    "# use lower cpu resources for idle codes\n",
    "from amuse.support import options\n",
    "options.GlobalOptions.instance().override_value_for_option(\"polling_interval_in_milliseconds\", 10)\n"
   ]
  },
  {
   "cell_type": "markdown",
   "metadata": {},
   "source": [
    "AMUSE tutorial on modules and channels\n",
    "====================\n",
    "\n",
    "AMUSE is composed of domain-specific modules (i.e. the physics modules), which are often written in some native compiled language, and data-handling.\n",
    "The latter tends to be confusing for novel users.\n",
    "Data representation in AMUSE is often replicated.\n",
    "So can there be a parameter *mass* to indicate a property of a star in a stellar-evolution code, in a gravitational dynamics code and in your user script.\n",
    "These three parameters *mass* can mean the same, or they can have a different meaning.\n",
    "This makes running amuse somewhat confusing at times.\n",
    "Here we show how to formally separate these data streams.\n",
    "\n",
    "But first we will enter the realm of modules."
   ]
  },
  {
   "cell_type": "code",
   "execution_count": null,
   "metadata": {},
   "outputs": [],
   "source": [
    "# Load in the amuse units module, the particle module and \n",
    "# some generator for producing some conditions.\n",
    "from amuse.units import units, constants\n",
    "from amuse.lab import Particles"
   ]
  },
  {
   "cell_type": "markdown",
   "metadata": {},
   "source": [
    "We now like to generate the Solar system, as it was observed on April 5th 2063 using the [JPL emphemeris](https://ssd.jpl.nasa.gov/horizons.cgi#top).\n",
    "Let's start with the inner most planet, Mercury, in the Sun's barycenter, which gives the following output:\n",
    "\n",
    "*******************************************************************************\n",
    "$$SOE\n",
    "2474649.500000000 = A.D. 2063-Apr-05 00:00:00.0000 TDB \n",
    " X =-2.689701945882702E-01 Y = 1.947622508089924E-01 Z = 4.148911797144442E-02\n",
    " VX=-2.230751806031045E-02 VY=-2.157655548570704E-02 VZ= 2.791759037949523E-04\n",
    " LT= 1.932846451835678E-03 RG= 3.346619889187973E-01 RR= 5.406475142917982E-03\n",
    " \n",
    "We can use these to start an AMUSE particle set, as follows"
   ]
  },
  {
   "cell_type": "code",
   "execution_count": null,
   "metadata": {},
   "outputs": [],
   "source": [
    "sun = Particles(1)\n",
    "sun.mass = 1 | units.MSun\n",
    "sun.position = (0, 0, 0) | units.km\n",
    "sun.velocity = (0, 0, 0) | units.km/units.s\n",
    "\n",
    "planets = Particles(8)\n",
    "planets[0].mass = 3.302e+23  | units.kg # also according to JPL)\n",
    "planets[0].position = (-2.689701945882702E-01,\n",
    "                       1.947622508089924E-01,\n",
    "                       4.148911797144442E-02) | units.au\n",
    "planets[0].velocity = (-2.230751806031045E-02,\n",
    "                       -2.157655548570704E-02,\n",
    "                       2.791759037949523E-04) | units.au / units.yr"
   ]
  },
  {
   "cell_type": "markdown",
   "metadata": {},
   "source": [
    "And continue doing this for the other 7 planets.\n",
    "Then add the Sun and we have the Solar system's particle set.\n",
    "It would be easier to have a handy routine with the same effect, in particular because we will frequently be using the Solar system as some sort of template for a rather typical planetary system, or for specifically studying this planetary system.\n",
    "We therefore have a handy routine that gives allows us to initialize the Solar system."
   ]
  },
  {
   "cell_type": "code",
   "execution_count": null,
   "metadata": {},
   "outputs": [],
   "source": [
    "from amuse.ext.solarsystem import new_solar_system\n",
    "sun_and_planets = new_solar_system()\n",
    "\n",
    "print(sun_and_planets)  # Note that Pluto is still included here :-)"
   ]
  },
  {
   "cell_type": "markdown",
   "metadata": {},
   "source": [
    "We adopted the module `ext.new_solar_system` to generate a ready-made solar system.\n",
    "You can also make a solar system that includes its moons.\n",
    "For this you will have to use the routine 'new_lunar_system', which is a module from the 'amuse.ic.solar_system_moons' package.\n",
    "\n",
    "Now, plot the positions of the sun and planets in the orbital plane."
   ]
  },
  {
   "cell_type": "markdown",
   "metadata": {},
   "source": [
    "In 1984 [Whitemire and Jackson](https://ui.adsabs.harvard.edu/abs/1984Natur.308..713W/abstract) and [Davies et al 1984](https://ui.adsabs.harvard.edu/abs/1984Natur.308..715D)([preprint](https://escholarship.org/uc/item/9gm5c682)) argued that the Solar system was orbited by a hypothetical star called Nemesis, named after the goddess\n",
    "of Rhamnous who punished those who did not honor the Olympians.\n",
    "\n",
    "This companion to the Sun would have an orbital separation of about 95,000 au, and due to its interaction with the Oort cloud would initiate periodic comet shouwers in the inner Solar system; punishing life on Earth for being atheistic?\n",
    "\n",
    "Let's adopt the Solar system as we have just initialized and add Nemesis as an 0.2 MSun main-sequence star in a 95,000 au orbit with an eccentricity of 0.7.\n",
    "\n",
    "Let's construct the binary system of the Sun (without planets) and Nemesis."
   ]
  },
  {
   "cell_type": "code",
   "execution_count": null,
   "metadata": {},
   "outputs": [],
   "source": [
    "mass_sun = sun_and_planets.mass.sum()\n",
    "mass_nemesis = 0.2 | units.MSun\n",
    "a = 95000 | units.au\n",
    "e = 0.7\n",
    "\n",
    "from amuse.ext.orbital_elements import new_binary_from_orbital_elements\n",
    "sun_and_nemesis = new_binary_from_orbital_elements(\n",
    "    mass_sun, mass_nemesis, \n",
    "    a, e, G=constants.G,\n",
    ")\n",
    "sun_and_nemesis.name=[\"Companion\", \"Nemesis\"]\n",
    "print(sun_and_nemesis)"
   ]
  },
  {
   "cell_type": "markdown",
   "metadata": {},
   "source": [
    "Now, the sun in this binary-particle set and the sun in the Solar system particle-set do not have the same position."
   ]
  },
  {
   "cell_type": "code",
   "execution_count": null,
   "metadata": {},
   "outputs": [],
   "source": [
    "sun = sun_and_planets[sun_and_planets.name==\"SUN\"] \n",
    "print(sun.position.in_(units.au)) # can you understand the double [[ ]] in the output?\n",
    "print(sun_and_nemesis[sun_and_nemesis.mass > (0.9 | units.MSun) ].position.in_(units.au))"
   ]
  },
  {
   "cell_type": "markdown",
   "metadata": {},
   "source": [
    "And similarly, they will have different velocity.\n",
    "\n",
    "However, we would like to adopt these binary parameters for the Sun-Nemesis binary system.\n",
    "For this, we first move the entire Solar system to the Sun barycenter, move it to Nemesis' companion and add Nemesis."
   ]
  },
  {
   "cell_type": "code",
   "execution_count": null,
   "metadata": {},
   "outputs": [],
   "source": [
    "sun_and_planets.position -= sun.position\n",
    "sun_and_planets.velocity -= sun.velocity\n",
    "companion = sun_and_nemesis[sun_and_nemesis.name == \"Companion\"]\n",
    "nemesis = sun_and_nemesis[sun_and_nemesis.name == \"Nemesis\"]\n",
    "sun_and_planets.position += companion.position\n",
    "sun_and_planets.velocity += companion.velocity\n",
    "sun_and_planets.add_particle(sun_and_nemesis[1])\n",
    "print(sun_and_planets)"
   ]
  },
  {
   "cell_type": "markdown",
   "metadata": {},
   "source": [
    "You have created a hypothetical planetary system with the Sun, 8 planets and 1 dwarf planet (mimicking the Solar system), and a secondary star (Nemesis) in a wide and elliptic orbit.\n",
    "\n",
    "Assignments and questions:\n",
    "---------------\n",
    "\n",
    "### Assignment 1:\n",
    "To check the orbit of Nemesis around the Sun you can calculate the orbital elements from the Cartesian coordinates of the Sun and Nemesis.\n",
    "Perform this operation and check the orbital elements of the nemesis-Sun binary. "
   ]
  },
  {
   "cell_type": "markdown",
   "metadata": {},
   "source": [
    "### Question 1:\n",
    "When performing this assignment, we found that the orbit between the Sun and Nemesis is slightly off from what we put in.\n",
    "The semi-major axis is about 95,606 au with an eccentricity of about 0.702. \n",
    "\n",
    "Explain why the orbit is not what you anticipated it to be, and what can you do to mitigate this?"
   ]
  },
  {
   "cell_type": "markdown",
   "metadata": {},
   "source": [
    "### Assignment 2: \n",
    "(for this it is recommended to do the tutorial on N-body codes first)\n",
    "\n",
    "Add 100 zero-mass Oort cloud object in circular orbits around the Sun with semi-major axes equally spaced between 10000 au and 50000 au.\n",
    "Integrate those orbits for 10 full orbits of the Sun-Nemesis binary.\n",
    "Make a scatter plot of eccentricity as function of the semi-major axis for the initial and final Oort-cloud objects.\n",
    "Explain the figure.\n",
    "\n",
    "Be aware that 10 Nemesis periods is ~160 Myr, and running the system for that time will take a lot of time (about an hour).\n",
    "Start with shorter times and build up towards longer times when you know your code runs.\n",
    "You can also try different codes, and leaving out some planets.\n",
    "Is Mercury really that important? By leaving it out you may let the code take greater timesteps."
   ]
  },
  {
   "cell_type": "code",
   "execution_count": null,
   "metadata": {},
   "outputs": [],
   "source": [
    "from amuse.ic.isotropic_cloud import new_isotropic_cloud\n",
    "help(new_isotropic_cloud)"
   ]
  },
  {
   "cell_type": "markdown",
   "metadata": {},
   "source": [
    "### Question 3:\n",
    "Do you think that Nemesis could be the cause of periodic cometary visitors?"
   ]
  },
  {
   "cell_type": "code",
   "execution_count": null,
   "metadata": {},
   "outputs": [],
   "source": []
  }
 ],
 "metadata": {
  "kernelspec": {
   "display_name": "Python 3 (ipykernel)",
   "language": "python",
   "name": "python3"
  },
  "language_info": {
   "codemirror_mode": {
    "name": "ipython",
    "version": 3
   },
   "file_extension": ".py",
   "mimetype": "text/x-python",
   "name": "python",
   "nbconvert_exporter": "python",
   "pygments_lexer": "ipython3",
   "version": "3.8.13"
  }
 },
 "nbformat": 4,
 "nbformat_minor": 4
}
